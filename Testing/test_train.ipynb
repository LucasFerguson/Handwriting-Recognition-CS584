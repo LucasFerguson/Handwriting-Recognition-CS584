{
 "cells": [
  {
   "cell_type": "code",
   "execution_count": 18,
   "metadata": {},
   "outputs": [],
   "source": [
    "import os\n",
    "os.environ['TF_CPP_MIN_LOG_LEVEL'] = '3' "
   ]
  },
  {
   "cell_type": "code",
   "execution_count": 19,
   "metadata": {},
   "outputs": [],
   "source": [
    "import tensorflow as tf\n",
    "import datetime"
   ]
  },
  {
   "cell_type": "code",
   "execution_count": 20,
   "metadata": {},
   "outputs": [
    {
     "name": "stdout",
     "output_type": "stream",
     "text": [
      "Found 814255 files belonging to 47 classes.\n"
     ]
    }
   ],
   "source": [
    "IMAGE_WIDTH = 28\n",
    "IMAGE_HEIGHT = 28\n",
    "IMAGE_CHANNELS = 1\n",
    "\n",
    "# IMAGE_DIRECTORY = \"../Datasets/HandWritten-Nist/dataset\"\n",
    "IMAGE_DIRECTORY = \"../Datasets/MergedMNIST/dataset\"\n",
    "\n",
    "dataset = tf.keras.preprocessing.image_dataset_from_directory(\n",
    "\tIMAGE_DIRECTORY,\n",
    "\tlabels=\"inferred\",\n",
    "\tlabel_mode=\"categorical\", # one-hot encoding stuff\n",
    "\timage_size=(28, 28),\n",
    "\tshuffle=True,\n",
    "\tcolor_mode=\"grayscale\",\n",
    ")\n",
    "\n",
    "# Split to train and test 80/20\n",
    "train_size = int(0.8 * len(dataset))\n",
    "val_size = len(dataset) - train_size\n",
    "\n",
    "train_dataset = dataset.take(train_size)\n",
    "val_dataset = dataset.skip(train_size)\n"
   ]
  },
  {
   "cell_type": "code",
   "execution_count": 21,
   "metadata": {},
   "outputs": [],
   "source": [
    "# Normalize the dataset prior to the model\n",
    "\n",
    "def normalize(image, label):\n",
    "\timage = tf.cast(image, tf.float32) / 255.0\n",
    "\treturn image, label\n",
    "\n",
    "train_dataset = train_dataset.map(normalize)\n",
    "val_dataset = val_dataset.map(normalize)"
   ]
  },
  {
   "cell_type": "code",
   "execution_count": 22,
   "metadata": {},
   "outputs": [],
   "source": [
    "# # Configuring the dataset for performance\n",
    "# # Enable caching and prefetching (overlap preprocessing and model execution while training)\n",
    "# AUTOTUNE = tf.data.AUTOTUNE\n",
    "\n",
    "# # Set up a pre-processing function. It is just going to be normalizing here, but\n",
    "# # that hopefully should save time later?\n",
    "# def preprocess_image(image, label):\n",
    "# \timage = image / 255.0\n",
    "# \treturn image, label\n",
    "\n",
    "# # Cache to disk instead of memory because we got some large datasets\n",
    "# dataset = dataset.cache('/tmp/dataset_cache')\n",
    "\n",
    "# # Apply preprocessing\n",
    "# # dataset = dataset.map(preprocess_image, num_parallel_calls=tf.data.AUTOTUNE)\n",
    "\n",
    "# # Prefetching..? Gotta be honest, this seems to help but idk how considering all\n",
    "# # the images are local\n",
    "# dataset = dataset.prefetch(buffer_size=2)\n",
    "\n",
    "# train_ds = dataset.shuffle(1000)\n",
    "\n",
    "# # train_ds = dataset.cache().shuffle(1000).prefetch(buffer_size=AUTOTUNE)\n",
    "# # train_ds = dataset.shuffle(1000).prefetch(buffer_size=AUTOTUNE)\n",
    "# # val_ds = test_ds.cache().prefetch(buffer_size=AUTOTUNE)"
   ]
  },
  {
   "cell_type": "code",
   "execution_count": 47,
   "metadata": {},
   "outputs": [],
   "source": [
    "AUTOTUNE = tf.data.AUTOTUNE\n",
    "\n",
    "# train_dataset = train_dataset.cache('/tmp/dataset_cache')\n",
    "train_dataset = train_dataset.cache()\n",
    "train_dataset = train_dataset.shuffle(1000)\n",
    "train_dataset = train_dataset.prefetch(buffer_size=AUTOTUNE)\n",
    "val_dataset = val_dataset.cache().prefetch(buffer_size=AUTOTUNE)"
   ]
  },
  {
   "cell_type": "code",
   "execution_count": 48,
   "metadata": {},
   "outputs": [
    {
     "name": "stderr",
     "output_type": "stream",
     "text": [
      "/mnt/c/Users/noahb/NProgramming/Handwriting-Recognition-CS584/.venv/lib/python3.10/site-packages/keras/src/layers/convolutional/base_conv.py:107: UserWarning: Do not pass an `input_shape`/`input_dim` argument to a layer. When using Sequential models, prefer using an `Input(shape)` object as the first layer in the model instead.\n",
      "  super().__init__(activity_regularizer=activity_regularizer, **kwargs)\n"
     ]
    }
   ],
   "source": [
    "model = tf.keras.models.Sequential()\n",
    "\n",
    "# Hypothesis by doing tanh here stems from\n",
    "# 1) Observing that LeNet while simple uses it\n",
    "# 2) The initial layers are looking for general features, not specific ones\n",
    "model.add(tf.keras.layers.Conv2D(\n",
    "    input_shape=(IMAGE_WIDTH, IMAGE_HEIGHT, IMAGE_CHANNELS),\n",
    "    kernel_size=5,\n",
    "    filters=8,\n",
    "    strides=1,\n",
    "))\n",
    "\n",
    "# Batch normalizationhelps helps train models faster. It does this in a few\n",
    "# ways. It allows us (1) to increase the learning rate (2) it helps resolve the\n",
    "# vanishing gradient problem somewhat (usually done by ReLU though) (3)\n",
    "# regularization which helps prevent overfitting (we could remove the dropout\n",
    "# layer possibly)\n",
    "# https://www.datacamp.com/tutorial/batch-normalization-tensorflow\n",
    "# https://arxiv.org/abs/1502.03167\n",
    "# https://www.geeksforgeeks.org/what-is-batch-normalization-in-cnn/#how-does-batch-normalization-work-in-cnn\n",
    "model.add(tf.keras.layers.BatchNormalization())\n",
    "\n",
    "model.add(tf.keras.layers.ReLU())\n",
    "\n",
    "model.add(tf.keras.layers.MaxPool2D(\n",
    "    pool_size=(2, 2),\n",
    "    strides=(2, 2)\n",
    "))\n",
    "\n",
    "\n",
    "# Hypothesis by doing relu here is that this layer is going to be looking for\n",
    "# more abstract features and they should be an off/on situation\n",
    "model.add(tf.keras.layers.Conv2D(\n",
    "    kernel_size=5,\n",
    "    filters=16,\n",
    "    strides=1,\n",
    "))\n",
    "\n",
    "model.add(tf.keras.layers.BatchNormalization())\n",
    "\n",
    "model.add(tf.keras.layers.ReLU())\n",
    "\n",
    "model.add(tf.keras.layers.MaxPool2D(\n",
    "    pool_size=(2, 2),\n",
    "    strides=(2, 2)\n",
    "))\n",
    "\n",
    "model.add(tf.keras.layers.Flatten())\n",
    "\n",
    "# LeNet uses 120 neurons, online example uses 128\n",
    "# We will use 200\n",
    "model.add(tf.keras.layers.Dense(\n",
    "    units=200,\n",
    "    activation=tf.keras.activations.relu\n",
    "))\n",
    "\n",
    "model.add(tf.keras.layers.Dropout(0.2))\n",
    "\n",
    "# Output layer\n",
    "model.add(tf.keras.layers.Dense(\n",
    "    units=47,\n",
    "    activation=tf.keras.activations.softmax,\n",
    "    kernel_initializer=tf.keras.initializers.VarianceScaling()\n",
    "))"
   ]
  },
  {
   "cell_type": "code",
   "execution_count": 49,
   "metadata": {},
   "outputs": [
    {
     "data": {
      "text/html": [
       "<pre style=\"white-space:pre;overflow-x:auto;line-height:normal;font-family:Menlo,'DejaVu Sans Mono',consolas,'Courier New',monospace\"><span style=\"font-weight: bold\">Model: \"sequential_3\"</span>\n",
       "</pre>\n"
      ],
      "text/plain": [
       "\u001b[1mModel: \"sequential_3\"\u001b[0m\n"
      ]
     },
     "metadata": {},
     "output_type": "display_data"
    },
    {
     "data": {
      "text/html": [
       "<pre style=\"white-space:pre;overflow-x:auto;line-height:normal;font-family:Menlo,'DejaVu Sans Mono',consolas,'Courier New',monospace\">┏━━━━━━━━━━━━━━━━━━━━━━━━━━━━━━━━━┳━━━━━━━━━━━━━━━━━━━━━━━━┳━━━━━━━━━━━━━━━┓\n",
       "┃<span style=\"font-weight: bold\"> Layer (type)                    </span>┃<span style=\"font-weight: bold\"> Output Shape           </span>┃<span style=\"font-weight: bold\">       Param # </span>┃\n",
       "┡━━━━━━━━━━━━━━━━━━━━━━━━━━━━━━━━━╇━━━━━━━━━━━━━━━━━━━━━━━━╇━━━━━━━━━━━━━━━┩\n",
       "│ conv2d_6 (<span style=\"color: #0087ff; text-decoration-color: #0087ff\">Conv2D</span>)               │ (<span style=\"color: #00d7ff; text-decoration-color: #00d7ff\">None</span>, <span style=\"color: #00af00; text-decoration-color: #00af00\">24</span>, <span style=\"color: #00af00; text-decoration-color: #00af00\">24</span>, <span style=\"color: #00af00; text-decoration-color: #00af00\">8</span>)      │           <span style=\"color: #00af00; text-decoration-color: #00af00\">208</span> │\n",
       "├─────────────────────────────────┼────────────────────────┼───────────────┤\n",
       "│ batch_normalization_4           │ (<span style=\"color: #00d7ff; text-decoration-color: #00d7ff\">None</span>, <span style=\"color: #00af00; text-decoration-color: #00af00\">24</span>, <span style=\"color: #00af00; text-decoration-color: #00af00\">24</span>, <span style=\"color: #00af00; text-decoration-color: #00af00\">8</span>)      │            <span style=\"color: #00af00; text-decoration-color: #00af00\">32</span> │\n",
       "│ (<span style=\"color: #0087ff; text-decoration-color: #0087ff\">BatchNormalization</span>)            │                        │               │\n",
       "├─────────────────────────────────┼────────────────────────┼───────────────┤\n",
       "│ re_lu (<span style=\"color: #0087ff; text-decoration-color: #0087ff\">ReLU</span>)                    │ (<span style=\"color: #00d7ff; text-decoration-color: #00d7ff\">None</span>, <span style=\"color: #00af00; text-decoration-color: #00af00\">24</span>, <span style=\"color: #00af00; text-decoration-color: #00af00\">24</span>, <span style=\"color: #00af00; text-decoration-color: #00af00\">8</span>)      │             <span style=\"color: #00af00; text-decoration-color: #00af00\">0</span> │\n",
       "├─────────────────────────────────┼────────────────────────┼───────────────┤\n",
       "│ max_pooling2d_6 (<span style=\"color: #0087ff; text-decoration-color: #0087ff\">MaxPooling2D</span>)  │ (<span style=\"color: #00d7ff; text-decoration-color: #00d7ff\">None</span>, <span style=\"color: #00af00; text-decoration-color: #00af00\">12</span>, <span style=\"color: #00af00; text-decoration-color: #00af00\">12</span>, <span style=\"color: #00af00; text-decoration-color: #00af00\">8</span>)      │             <span style=\"color: #00af00; text-decoration-color: #00af00\">0</span> │\n",
       "├─────────────────────────────────┼────────────────────────┼───────────────┤\n",
       "│ conv2d_7 (<span style=\"color: #0087ff; text-decoration-color: #0087ff\">Conv2D</span>)               │ (<span style=\"color: #00d7ff; text-decoration-color: #00d7ff\">None</span>, <span style=\"color: #00af00; text-decoration-color: #00af00\">8</span>, <span style=\"color: #00af00; text-decoration-color: #00af00\">8</span>, <span style=\"color: #00af00; text-decoration-color: #00af00\">16</span>)       │         <span style=\"color: #00af00; text-decoration-color: #00af00\">3,216</span> │\n",
       "├─────────────────────────────────┼────────────────────────┼───────────────┤\n",
       "│ batch_normalization_5           │ (<span style=\"color: #00d7ff; text-decoration-color: #00d7ff\">None</span>, <span style=\"color: #00af00; text-decoration-color: #00af00\">8</span>, <span style=\"color: #00af00; text-decoration-color: #00af00\">8</span>, <span style=\"color: #00af00; text-decoration-color: #00af00\">16</span>)       │            <span style=\"color: #00af00; text-decoration-color: #00af00\">64</span> │\n",
       "│ (<span style=\"color: #0087ff; text-decoration-color: #0087ff\">BatchNormalization</span>)            │                        │               │\n",
       "├─────────────────────────────────┼────────────────────────┼───────────────┤\n",
       "│ re_lu_1 (<span style=\"color: #0087ff; text-decoration-color: #0087ff\">ReLU</span>)                  │ (<span style=\"color: #00d7ff; text-decoration-color: #00d7ff\">None</span>, <span style=\"color: #00af00; text-decoration-color: #00af00\">8</span>, <span style=\"color: #00af00; text-decoration-color: #00af00\">8</span>, <span style=\"color: #00af00; text-decoration-color: #00af00\">16</span>)       │             <span style=\"color: #00af00; text-decoration-color: #00af00\">0</span> │\n",
       "├─────────────────────────────────┼────────────────────────┼───────────────┤\n",
       "│ max_pooling2d_7 (<span style=\"color: #0087ff; text-decoration-color: #0087ff\">MaxPooling2D</span>)  │ (<span style=\"color: #00d7ff; text-decoration-color: #00d7ff\">None</span>, <span style=\"color: #00af00; text-decoration-color: #00af00\">4</span>, <span style=\"color: #00af00; text-decoration-color: #00af00\">4</span>, <span style=\"color: #00af00; text-decoration-color: #00af00\">16</span>)       │             <span style=\"color: #00af00; text-decoration-color: #00af00\">0</span> │\n",
       "├─────────────────────────────────┼────────────────────────┼───────────────┤\n",
       "│ flatten_3 (<span style=\"color: #0087ff; text-decoration-color: #0087ff\">Flatten</span>)             │ (<span style=\"color: #00d7ff; text-decoration-color: #00d7ff\">None</span>, <span style=\"color: #00af00; text-decoration-color: #00af00\">256</span>)            │             <span style=\"color: #00af00; text-decoration-color: #00af00\">0</span> │\n",
       "├─────────────────────────────────┼────────────────────────┼───────────────┤\n",
       "│ dense_6 (<span style=\"color: #0087ff; text-decoration-color: #0087ff\">Dense</span>)                 │ (<span style=\"color: #00d7ff; text-decoration-color: #00d7ff\">None</span>, <span style=\"color: #00af00; text-decoration-color: #00af00\">200</span>)            │        <span style=\"color: #00af00; text-decoration-color: #00af00\">51,400</span> │\n",
       "├─────────────────────────────────┼────────────────────────┼───────────────┤\n",
       "│ dropout_3 (<span style=\"color: #0087ff; text-decoration-color: #0087ff\">Dropout</span>)             │ (<span style=\"color: #00d7ff; text-decoration-color: #00d7ff\">None</span>, <span style=\"color: #00af00; text-decoration-color: #00af00\">200</span>)            │             <span style=\"color: #00af00; text-decoration-color: #00af00\">0</span> │\n",
       "├─────────────────────────────────┼────────────────────────┼───────────────┤\n",
       "│ dense_7 (<span style=\"color: #0087ff; text-decoration-color: #0087ff\">Dense</span>)                 │ (<span style=\"color: #00d7ff; text-decoration-color: #00d7ff\">None</span>, <span style=\"color: #00af00; text-decoration-color: #00af00\">47</span>)             │         <span style=\"color: #00af00; text-decoration-color: #00af00\">9,447</span> │\n",
       "└─────────────────────────────────┴────────────────────────┴───────────────┘\n",
       "</pre>\n"
      ],
      "text/plain": [
       "┏━━━━━━━━━━━━━━━━━━━━━━━━━━━━━━━━━┳━━━━━━━━━━━━━━━━━━━━━━━━┳━━━━━━━━━━━━━━━┓\n",
       "┃\u001b[1m \u001b[0m\u001b[1mLayer (type)                   \u001b[0m\u001b[1m \u001b[0m┃\u001b[1m \u001b[0m\u001b[1mOutput Shape          \u001b[0m\u001b[1m \u001b[0m┃\u001b[1m \u001b[0m\u001b[1m      Param #\u001b[0m\u001b[1m \u001b[0m┃\n",
       "┡━━━━━━━━━━━━━━━━━━━━━━━━━━━━━━━━━╇━━━━━━━━━━━━━━━━━━━━━━━━╇━━━━━━━━━━━━━━━┩\n",
       "│ conv2d_6 (\u001b[38;5;33mConv2D\u001b[0m)               │ (\u001b[38;5;45mNone\u001b[0m, \u001b[38;5;34m24\u001b[0m, \u001b[38;5;34m24\u001b[0m, \u001b[38;5;34m8\u001b[0m)      │           \u001b[38;5;34m208\u001b[0m │\n",
       "├─────────────────────────────────┼────────────────────────┼───────────────┤\n",
       "│ batch_normalization_4           │ (\u001b[38;5;45mNone\u001b[0m, \u001b[38;5;34m24\u001b[0m, \u001b[38;5;34m24\u001b[0m, \u001b[38;5;34m8\u001b[0m)      │            \u001b[38;5;34m32\u001b[0m │\n",
       "│ (\u001b[38;5;33mBatchNormalization\u001b[0m)            │                        │               │\n",
       "├─────────────────────────────────┼────────────────────────┼───────────────┤\n",
       "│ re_lu (\u001b[38;5;33mReLU\u001b[0m)                    │ (\u001b[38;5;45mNone\u001b[0m, \u001b[38;5;34m24\u001b[0m, \u001b[38;5;34m24\u001b[0m, \u001b[38;5;34m8\u001b[0m)      │             \u001b[38;5;34m0\u001b[0m │\n",
       "├─────────────────────────────────┼────────────────────────┼───────────────┤\n",
       "│ max_pooling2d_6 (\u001b[38;5;33mMaxPooling2D\u001b[0m)  │ (\u001b[38;5;45mNone\u001b[0m, \u001b[38;5;34m12\u001b[0m, \u001b[38;5;34m12\u001b[0m, \u001b[38;5;34m8\u001b[0m)      │             \u001b[38;5;34m0\u001b[0m │\n",
       "├─────────────────────────────────┼────────────────────────┼───────────────┤\n",
       "│ conv2d_7 (\u001b[38;5;33mConv2D\u001b[0m)               │ (\u001b[38;5;45mNone\u001b[0m, \u001b[38;5;34m8\u001b[0m, \u001b[38;5;34m8\u001b[0m, \u001b[38;5;34m16\u001b[0m)       │         \u001b[38;5;34m3,216\u001b[0m │\n",
       "├─────────────────────────────────┼────────────────────────┼───────────────┤\n",
       "│ batch_normalization_5           │ (\u001b[38;5;45mNone\u001b[0m, \u001b[38;5;34m8\u001b[0m, \u001b[38;5;34m8\u001b[0m, \u001b[38;5;34m16\u001b[0m)       │            \u001b[38;5;34m64\u001b[0m │\n",
       "│ (\u001b[38;5;33mBatchNormalization\u001b[0m)            │                        │               │\n",
       "├─────────────────────────────────┼────────────────────────┼───────────────┤\n",
       "│ re_lu_1 (\u001b[38;5;33mReLU\u001b[0m)                  │ (\u001b[38;5;45mNone\u001b[0m, \u001b[38;5;34m8\u001b[0m, \u001b[38;5;34m8\u001b[0m, \u001b[38;5;34m16\u001b[0m)       │             \u001b[38;5;34m0\u001b[0m │\n",
       "├─────────────────────────────────┼────────────────────────┼───────────────┤\n",
       "│ max_pooling2d_7 (\u001b[38;5;33mMaxPooling2D\u001b[0m)  │ (\u001b[38;5;45mNone\u001b[0m, \u001b[38;5;34m4\u001b[0m, \u001b[38;5;34m4\u001b[0m, \u001b[38;5;34m16\u001b[0m)       │             \u001b[38;5;34m0\u001b[0m │\n",
       "├─────────────────────────────────┼────────────────────────┼───────────────┤\n",
       "│ flatten_3 (\u001b[38;5;33mFlatten\u001b[0m)             │ (\u001b[38;5;45mNone\u001b[0m, \u001b[38;5;34m256\u001b[0m)            │             \u001b[38;5;34m0\u001b[0m │\n",
       "├─────────────────────────────────┼────────────────────────┼───────────────┤\n",
       "│ dense_6 (\u001b[38;5;33mDense\u001b[0m)                 │ (\u001b[38;5;45mNone\u001b[0m, \u001b[38;5;34m200\u001b[0m)            │        \u001b[38;5;34m51,400\u001b[0m │\n",
       "├─────────────────────────────────┼────────────────────────┼───────────────┤\n",
       "│ dropout_3 (\u001b[38;5;33mDropout\u001b[0m)             │ (\u001b[38;5;45mNone\u001b[0m, \u001b[38;5;34m200\u001b[0m)            │             \u001b[38;5;34m0\u001b[0m │\n",
       "├─────────────────────────────────┼────────────────────────┼───────────────┤\n",
       "│ dense_7 (\u001b[38;5;33mDense\u001b[0m)                 │ (\u001b[38;5;45mNone\u001b[0m, \u001b[38;5;34m47\u001b[0m)             │         \u001b[38;5;34m9,447\u001b[0m │\n",
       "└─────────────────────────────────┴────────────────────────┴───────────────┘\n"
      ]
     },
     "metadata": {},
     "output_type": "display_data"
    },
    {
     "data": {
      "text/html": [
       "<pre style=\"white-space:pre;overflow-x:auto;line-height:normal;font-family:Menlo,'DejaVu Sans Mono',consolas,'Courier New',monospace\"><span style=\"font-weight: bold\"> Total params: </span><span style=\"color: #00af00; text-decoration-color: #00af00\">64,367</span> (251.43 KB)\n",
       "</pre>\n"
      ],
      "text/plain": [
       "\u001b[1m Total params: \u001b[0m\u001b[38;5;34m64,367\u001b[0m (251.43 KB)\n"
      ]
     },
     "metadata": {},
     "output_type": "display_data"
    },
    {
     "data": {
      "text/html": [
       "<pre style=\"white-space:pre;overflow-x:auto;line-height:normal;font-family:Menlo,'DejaVu Sans Mono',consolas,'Courier New',monospace\"><span style=\"font-weight: bold\"> Trainable params: </span><span style=\"color: #00af00; text-decoration-color: #00af00\">64,319</span> (251.25 KB)\n",
       "</pre>\n"
      ],
      "text/plain": [
       "\u001b[1m Trainable params: \u001b[0m\u001b[38;5;34m64,319\u001b[0m (251.25 KB)\n"
      ]
     },
     "metadata": {},
     "output_type": "display_data"
    },
    {
     "data": {
      "text/html": [
       "<pre style=\"white-space:pre;overflow-x:auto;line-height:normal;font-family:Menlo,'DejaVu Sans Mono',consolas,'Courier New',monospace\"><span style=\"font-weight: bold\"> Non-trainable params: </span><span style=\"color: #00af00; text-decoration-color: #00af00\">48</span> (192.00 B)\n",
       "</pre>\n"
      ],
      "text/plain": [
       "\u001b[1m Non-trainable params: \u001b[0m\u001b[38;5;34m48\u001b[0m (192.00 B)\n"
      ]
     },
     "metadata": {},
     "output_type": "display_data"
    }
   ],
   "source": [
    "model.summary()"
   ]
  },
  {
   "cell_type": "code",
   "execution_count": 50,
   "metadata": {},
   "outputs": [],
   "source": [
    "# Compile the model\n",
    "\n",
    "# Uses Adam. Adam works by\n",
    "# - Keeping track of a history of gradients as opposed to just the current\n",
    "#   gradient\n",
    "# - It uses an adaptive learning rate based on that gradient history Adam is\n",
    "\n",
    "# It also just generally efficient and works well for our use case (ChatGPT\n",
    "# mentions good for computer vision tasks which is kind of what we are doing)\n",
    "\n",
    "# We might try testing this with stochastic gradient descent instead because\n",
    "# that is what we learned in class. We could use that as a storytelling aspect\n",
    "# for the professor\n",
    "\n",
    "# adam_optimizer = tf.keras.optimizers.Adam()\n",
    "# model.compile(\n",
    "#     optimizer=adam_optimizer,\n",
    "#     loss=tf.keras.losses.CategoricalCrossentropy(),\n",
    "#     metrics=['accuracy']\n",
    "# )\n",
    "\n",
    "# In past experiments, SGD has performed better and it is apparently used in\n",
    "# other image networks\n",
    "# https://shaoanlu.wordpress.com/2017/05/29/sgd-all-which-one-is-the-best-optimizer-dogs-vs-cats-toy-experiment/\n",
    "sgd_optimizer = tf.keras.optimizers.SGD()\n",
    "model.compile(\n",
    "\toptimizer=sgd_optimizer,\n",
    "\tloss=tf.keras.losses.CategoricalCrossentropy(),\n",
    "    metrics=['accuracy']\n",
    ")"
   ]
  },
  {
   "cell_type": "code",
   "execution_count": 51,
   "metadata": {},
   "outputs": [
    {
     "name": "stdout",
     "output_type": "stream",
     "text": [
      "Epoch 1/25\n",
      "\u001b[1m20356/20356\u001b[0m \u001b[32m━━━━━━━━━━━━━━━━━━━━\u001b[0m\u001b[37m\u001b[0m \u001b[1m60s\u001b[0m 3ms/step - accuracy: 0.7481 - loss: 0.8671 - val_accuracy: 0.8725 - val_loss: 0.3617\n",
      "Epoch 2/25\n",
      "\u001b[1m20356/20356\u001b[0m \u001b[32m━━━━━━━━━━━━━━━━━━━━\u001b[0m\u001b[37m\u001b[0m \u001b[1m54s\u001b[0m 3ms/step - accuracy: 0.8693 - loss: 0.3771 - val_accuracy: 0.8827 - val_loss: 0.3280\n",
      "Epoch 3/25\n",
      "\u001b[1m20356/20356\u001b[0m \u001b[32m━━━━━━━━━━━━━━━━━━━━\u001b[0m\u001b[37m\u001b[0m \u001b[1m47s\u001b[0m 2ms/step - accuracy: 0.8789 - loss: 0.3448 - val_accuracy: 0.8864 - val_loss: 0.3166\n",
      "Epoch 4/25\n",
      "\u001b[1m20356/20356\u001b[0m \u001b[32m━━━━━━━━━━━━━━━━━━━━\u001b[0m\u001b[37m\u001b[0m \u001b[1m51s\u001b[0m 2ms/step - accuracy: 0.8838 - loss: 0.3272 - val_accuracy: 0.8914 - val_loss: 0.2998\n",
      "Epoch 5/25\n",
      "\u001b[1m20356/20356\u001b[0m \u001b[32m━━━━━━━━━━━━━━━━━━━━\u001b[0m\u001b[37m\u001b[0m \u001b[1m47s\u001b[0m 2ms/step - accuracy: 0.8867 - loss: 0.3167 - val_accuracy: 0.8925 - val_loss: 0.2931\n",
      "Epoch 6/25\n",
      "\u001b[1m20356/20356\u001b[0m \u001b[32m━━━━━━━━━━━━━━━━━━━━\u001b[0m\u001b[37m\u001b[0m \u001b[1m45s\u001b[0m 2ms/step - accuracy: 0.8888 - loss: 0.3094 - val_accuracy: 0.8950 - val_loss: 0.2882\n",
      "Epoch 7/25\n",
      "\u001b[1m20356/20356\u001b[0m \u001b[32m━━━━━━━━━━━━━━━━━━━━\u001b[0m\u001b[37m\u001b[0m \u001b[1m46s\u001b[0m 2ms/step - accuracy: 0.8905 - loss: 0.3026 - val_accuracy: 0.8939 - val_loss: 0.2884\n",
      "Epoch 8/25\n",
      "\u001b[1m20356/20356\u001b[0m \u001b[32m━━━━━━━━━━━━━━━━━━━━\u001b[0m\u001b[37m\u001b[0m \u001b[1m48s\u001b[0m 2ms/step - accuracy: 0.8918 - loss: 0.2987 - val_accuracy: 0.8950 - val_loss: 0.2853\n",
      "Epoch 9/25\n",
      "\u001b[1m20356/20356\u001b[0m \u001b[32m━━━━━━━━━━━━━━━━━━━━\u001b[0m\u001b[37m\u001b[0m \u001b[1m46s\u001b[0m 2ms/step - accuracy: 0.8931 - loss: 0.2944 - val_accuracy: 0.8957 - val_loss: 0.2822\n",
      "Epoch 10/25\n",
      "\u001b[1m20356/20356\u001b[0m \u001b[32m━━━━━━━━━━━━━━━━━━━━\u001b[0m\u001b[37m\u001b[0m \u001b[1m47s\u001b[0m 2ms/step - accuracy: 0.8939 - loss: 0.2905 - val_accuracy: 0.8951 - val_loss: 0.2823\n",
      "Epoch 11/25\n",
      "\u001b[1m20356/20356\u001b[0m \u001b[32m━━━━━━━━━━━━━━━━━━━━\u001b[0m\u001b[37m\u001b[0m \u001b[1m45s\u001b[0m 2ms/step - accuracy: 0.8948 - loss: 0.2867 - val_accuracy: 0.8949 - val_loss: 0.2805\n",
      "Epoch 12/25\n",
      "\u001b[1m20356/20356\u001b[0m \u001b[32m━━━━━━━━━━━━━━━━━━━━\u001b[0m\u001b[37m\u001b[0m \u001b[1m43s\u001b[0m 2ms/step - accuracy: 0.8954 - loss: 0.2852 - val_accuracy: 0.8980 - val_loss: 0.2767\n",
      "Epoch 13/25\n",
      "\u001b[1m20356/20356\u001b[0m \u001b[32m━━━━━━━━━━━━━━━━━━━━\u001b[0m\u001b[37m\u001b[0m \u001b[1m52s\u001b[0m 3ms/step - accuracy: 0.8966 - loss: 0.2817 - val_accuracy: 0.8968 - val_loss: 0.2778\n",
      "Epoch 14/25\n",
      "\u001b[1m20356/20356\u001b[0m \u001b[32m━━━━━━━━━━━━━━━━━━━━\u001b[0m\u001b[37m\u001b[0m \u001b[1m50s\u001b[0m 2ms/step - accuracy: 0.8971 - loss: 0.2803 - val_accuracy: 0.8985 - val_loss: 0.2748\n",
      "Epoch 15/25\n",
      "\u001b[1m20356/20356\u001b[0m \u001b[32m━━━━━━━━━━━━━━━━━━━━\u001b[0m\u001b[37m\u001b[0m \u001b[1m56s\u001b[0m 3ms/step - accuracy: 0.8972 - loss: 0.2792 - val_accuracy: 0.8989 - val_loss: 0.2728\n",
      "Epoch 16/25\n",
      "\u001b[1m20356/20356\u001b[0m \u001b[32m━━━━━━━━━━━━━━━━━━━━\u001b[0m\u001b[37m\u001b[0m \u001b[1m52s\u001b[0m 3ms/step - accuracy: 0.8980 - loss: 0.2764 - val_accuracy: 0.8982 - val_loss: 0.2744\n",
      "Epoch 17/25\n",
      "\u001b[1m20356/20356\u001b[0m \u001b[32m━━━━━━━━━━━━━━━━━━━━\u001b[0m\u001b[37m\u001b[0m \u001b[1m54s\u001b[0m 3ms/step - accuracy: 0.8982 - loss: 0.2749 - val_accuracy: 0.8979 - val_loss: 0.2741\n",
      "Epoch 18/25\n",
      "\u001b[1m20356/20356\u001b[0m \u001b[32m━━━━━━━━━━━━━━━━━━━━\u001b[0m\u001b[37m\u001b[0m \u001b[1m53s\u001b[0m 3ms/step - accuracy: 0.8986 - loss: 0.2736 - val_accuracy: 0.8984 - val_loss: 0.2729\n",
      "Epoch 19/25\n",
      "\u001b[1m20356/20356\u001b[0m \u001b[32m━━━━━━━━━━━━━━━━━━━━\u001b[0m\u001b[37m\u001b[0m \u001b[1m60s\u001b[0m 3ms/step - accuracy: 0.8991 - loss: 0.2715 - val_accuracy: 0.8997 - val_loss: 0.2713\n",
      "Epoch 20/25\n",
      "\u001b[1m20356/20356\u001b[0m \u001b[32m━━━━━━━━━━━━━━━━━━━━\u001b[0m\u001b[37m\u001b[0m \u001b[1m58s\u001b[0m 3ms/step - accuracy: 0.8997 - loss: 0.2706 - val_accuracy: 0.8993 - val_loss: 0.2708\n",
      "Epoch 21/25\n",
      "\u001b[1m20356/20356\u001b[0m \u001b[32m━━━━━━━━━━━━━━━━━━━━\u001b[0m\u001b[37m\u001b[0m \u001b[1m51s\u001b[0m 3ms/step - accuracy: 0.8998 - loss: 0.2702 - val_accuracy: 0.8996 - val_loss: 0.2708\n",
      "Epoch 22/25\n",
      "\u001b[1m20356/20356\u001b[0m \u001b[32m━━━━━━━━━━━━━━━━━━━━\u001b[0m\u001b[37m\u001b[0m \u001b[1m52s\u001b[0m 3ms/step - accuracy: 0.9003 - loss: 0.2679 - val_accuracy: 0.8984 - val_loss: 0.2720\n",
      "Epoch 23/25\n",
      "\u001b[1m20356/20356\u001b[0m \u001b[32m━━━━━━━━━━━━━━━━━━━━\u001b[0m\u001b[37m\u001b[0m \u001b[1m56s\u001b[0m 3ms/step - accuracy: 0.9002 - loss: 0.2674 - val_accuracy: 0.8992 - val_loss: 0.2700\n",
      "Epoch 24/25\n",
      "\u001b[1m20356/20356\u001b[0m \u001b[32m━━━━━━━━━━━━━━━━━━━━\u001b[0m\u001b[37m\u001b[0m \u001b[1m54s\u001b[0m 3ms/step - accuracy: 0.9011 - loss: 0.2663 - val_accuracy: 0.9003 - val_loss: 0.2704\n",
      "Epoch 25/25\n",
      "\u001b[1m20356/20356\u001b[0m \u001b[32m━━━━━━━━━━━━━━━━━━━━\u001b[0m\u001b[37m\u001b[0m \u001b[1m47s\u001b[0m 2ms/step - accuracy: 0.9014 - loss: 0.2648 - val_accuracy: 0.9001 - val_loss: 0.2687\n",
      "The model has successfully trained\n"
     ]
    }
   ],
   "source": [
    "log_dir=\".logs/fit/\" + datetime.datetime.now().strftime(\"%Y%m%d-%H%M%S\")\n",
    "tensorboard_callback = tf.keras.callbacks.TensorBoard(log_dir=log_dir, histogram_freq=1)\n",
    "\n",
    "training_history = model.fit(\n",
    "    train_dataset,\n",
    "    # y_train_re,\n",
    "    epochs=25,\n",
    "    # validation_data=(x_validation_normalized, y_validation_re),\n",
    "    validation_data=val_dataset\n",
    "    # callbacks=[tensorboard_callback]\n",
    ")\n",
    "\n",
    "print(\"The model has successfully trained\")"
   ]
  },
  {
   "cell_type": "code",
   "execution_count": 52,
   "metadata": {},
   "outputs": [
    {
     "name": "stdout",
     "output_type": "stream",
     "text": [
      "Epoch 1:\n",
      "  Training Loss: 0.5611, Training Accuracy: 0.8214\n",
      "  Validation Loss: 0.3617, Validation Accuracy: 0.8725\n",
      "Epoch 2:\n",
      "  Training Loss: 0.3701, Training Accuracy: 0.8713\n",
      "  Validation Loss: 0.3280, Validation Accuracy: 0.8827\n",
      "Epoch 3:\n",
      "  Training Loss: 0.3421, Training Accuracy: 0.8796\n",
      "  Validation Loss: 0.3166, Validation Accuracy: 0.8864\n",
      "Epoch 4:\n",
      "  Training Loss: 0.3270, Training Accuracy: 0.8838\n",
      "  Validation Loss: 0.2998, Validation Accuracy: 0.8914\n",
      "Epoch 5:\n",
      "  Training Loss: 0.3167, Training Accuracy: 0.8867\n",
      "  Validation Loss: 0.2931, Validation Accuracy: 0.8925\n",
      "Epoch 6:\n",
      "  Training Loss: 0.3097, Training Accuracy: 0.8886\n",
      "  Validation Loss: 0.2882, Validation Accuracy: 0.8950\n",
      "Epoch 7:\n",
      "  Training Loss: 0.3039, Training Accuracy: 0.8901\n",
      "  Validation Loss: 0.2884, Validation Accuracy: 0.8939\n",
      "Epoch 8:\n",
      "  Training Loss: 0.2989, Training Accuracy: 0.8918\n",
      "  Validation Loss: 0.2853, Validation Accuracy: 0.8950\n",
      "Epoch 9:\n",
      "  Training Loss: 0.2954, Training Accuracy: 0.8928\n",
      "  Validation Loss: 0.2822, Validation Accuracy: 0.8957\n",
      "Epoch 10:\n",
      "  Training Loss: 0.2913, Training Accuracy: 0.8938\n",
      "  Validation Loss: 0.2823, Validation Accuracy: 0.8951\n",
      "Epoch 11:\n",
      "  Training Loss: 0.2886, Training Accuracy: 0.8944\n",
      "  Validation Loss: 0.2805, Validation Accuracy: 0.8949\n",
      "Epoch 12:\n",
      "  Training Loss: 0.2866, Training Accuracy: 0.8954\n",
      "  Validation Loss: 0.2767, Validation Accuracy: 0.8980\n",
      "Epoch 13:\n",
      "  Training Loss: 0.2836, Training Accuracy: 0.8961\n",
      "  Validation Loss: 0.2778, Validation Accuracy: 0.8968\n",
      "Epoch 14:\n",
      "  Training Loss: 0.2814, Training Accuracy: 0.8968\n",
      "  Validation Loss: 0.2748, Validation Accuracy: 0.8985\n",
      "Epoch 15:\n",
      "  Training Loss: 0.2797, Training Accuracy: 0.8971\n",
      "  Validation Loss: 0.2728, Validation Accuracy: 0.8989\n",
      "Epoch 16:\n",
      "  Training Loss: 0.2778, Training Accuracy: 0.8975\n",
      "  Validation Loss: 0.2744, Validation Accuracy: 0.8982\n",
      "Epoch 17:\n",
      "  Training Loss: 0.2764, Training Accuracy: 0.8979\n",
      "  Validation Loss: 0.2741, Validation Accuracy: 0.8979\n",
      "Epoch 18:\n",
      "  Training Loss: 0.2745, Training Accuracy: 0.8983\n",
      "  Validation Loss: 0.2729, Validation Accuracy: 0.8984\n",
      "Epoch 19:\n",
      "  Training Loss: 0.2732, Training Accuracy: 0.8989\n",
      "  Validation Loss: 0.2713, Validation Accuracy: 0.8997\n",
      "Epoch 20:\n",
      "  Training Loss: 0.2722, Training Accuracy: 0.8990\n",
      "  Validation Loss: 0.2708, Validation Accuracy: 0.8993\n",
      "Epoch 21:\n",
      "  Training Loss: 0.2709, Training Accuracy: 0.8997\n",
      "  Validation Loss: 0.2708, Validation Accuracy: 0.8996\n",
      "Epoch 22:\n",
      "  Training Loss: 0.2698, Training Accuracy: 0.9000\n",
      "  Validation Loss: 0.2720, Validation Accuracy: 0.8984\n",
      "Epoch 23:\n",
      "  Training Loss: 0.2686, Training Accuracy: 0.9000\n",
      "  Validation Loss: 0.2700, Validation Accuracy: 0.8992\n",
      "Epoch 24:\n",
      "  Training Loss: 0.2677, Training Accuracy: 0.9006\n",
      "  Validation Loss: 0.2704, Validation Accuracy: 0.9003\n",
      "Epoch 25:\n",
      "  Training Loss: 0.2663, Training Accuracy: 0.9011\n",
      "  Validation Loss: 0.2687, Validation Accuracy: 0.9001\n"
     ]
    }
   ],
   "source": [
    "# Access training loss and accuracy\n",
    "train_loss = training_history.history['loss']\n",
    "train_accuracy = training_history.history['accuracy']\n",
    "\n",
    "# Access validation loss and accuracy (if validation data is provided)\n",
    "val_loss = training_history.history.get('val_loss')\n",
    "val_accuracy = training_history.history.get('val_accuracy')\n",
    "\n",
    "# Print statistics for each epoch\n",
    "for epoch in range(len(train_loss)):\n",
    "    print(f\"Epoch {epoch+1}:\")\n",
    "    print(f\"  Training Loss: {train_loss[epoch]:.4f}, Training Accuracy: {train_accuracy[epoch]:.4f}\")\n",
    "    if val_loss and val_accuracy:\n",
    "        print(f\"  Validation Loss: {val_loss[epoch]:.4f}, Validation Accuracy: {val_accuracy[epoch]:.4f}\")"
   ]
  },
  {
   "cell_type": "code",
   "execution_count": 53,
   "metadata": {},
   "outputs": [],
   "source": [
    "model_name_string = \"model_v9_correct_batch_normal\""
   ]
  },
  {
   "cell_type": "code",
   "execution_count": 54,
   "metadata": {},
   "outputs": [
    {
     "data": {
      "image/png": "[encoded data removed]",
      "text/plain": [
       "<Figure size 1200x400 with 2 Axes>"
      ]
     },
     "metadata": {},
     "output_type": "display_data"
    }
   ],
   "source": [
    "import matplotlib.pyplot as plt\n",
    "\n",
    "\n",
    "# Plot training and validation loss\n",
    "\n",
    "with plt.style.context(\"seaborn-v0_8\"):\n",
    "    plt.figure(figsize=(12, 4))\n",
    "\n",
    "    plt.subplot(1, 2, 1)\n",
    "    plt.plot(training_history.history['loss'], label='Training Loss')\n",
    "    if 'val_loss' in training_history.history:\n",
    "        plt.plot(training_history.history['val_loss'], label='Validation Loss')\n",
    "    plt.title(f'{model_name_string} - Loss over Epochs')\n",
    "    plt.xlabel('Epoch')\n",
    "    plt.ylabel('Loss')\n",
    "    plt.legend()\n",
    "\n",
    "    # Plot training and validation accuracy\n",
    "    plt.subplot(1, 2, 2)\n",
    "    plt.plot(training_history.history['accuracy'], label='Training Accuracy')\n",
    "    if 'val_accuracy' in training_history.history:\n",
    "        plt.plot(training_history.history['val_accuracy'], label='Validation Accuracy')\n",
    "    plt.title(f'{model_name_string} - Accuracy over Epochs')\n",
    "    plt.xlabel('Epoch')\n",
    "    plt.ylabel('Accuracy')\n",
    "    # plt.style.use('seaborn-v0_8-bright')\n",
    "    plt.legend()\n",
    "\n",
    "    plt.show()"
   ]
  },
  {
   "cell_type": "code",
   "execution_count": 55,
   "metadata": {},
   "outputs": [],
   "source": [
    "import pandas as pd\n",
    "\n",
    "# Convert the history to a DataFrame and save as CSV\n",
    "history_df = pd.DataFrame(training_history.history)\n",
    "history_df.to_csv(f'{model_name_string}_history.csv', index=False)"
   ]
  },
  {
   "cell_type": "code",
   "execution_count": 56,
   "metadata": {},
   "outputs": [],
   "source": [
    "# Save the model itself\n",
    "model.save(f'{model_name_string}.keras')"
   ]
  },
  {
   "cell_type": "code",
   "execution_count": 57,
   "metadata": {},
   "outputs": [],
   "source": [
    "# Save model weights\n",
    "model.save_weights(f'{model_name_string}.weights.h5') "
   ]
  },
  {
   "cell_type": "code",
   "execution_count": null,
   "metadata": {},
   "outputs": [],
   "source": []
  }
 ],
 "metadata": {
  "kernelspec": {
   "display_name": ".venv",
   "language": "python",
   "name": "python3"
  },
  "language_info": {
   "codemirror_mode": {
    "name": "ipython",
    "version": 3
   },
   "file_extension": ".py",
   "mimetype": "text/x-python",
   "name": "python",
   "nbconvert_exporter": "python",
   "pygments_lexer": "ipython3",
   "version": "3.10.12"
  }
 },
 "nbformat": 4,
 "nbformat_minor": 2
}
